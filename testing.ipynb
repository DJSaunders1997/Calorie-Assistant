{
 "metadata": {
  "language_info": {
   "codemirror_mode": {
    "name": "ipython",
    "version": 3
   },
   "file_extension": ".py",
   "mimetype": "text/x-python",
   "name": "python",
   "nbconvert_exporter": "python",
   "pygments_lexer": "ipython3",
   "version": "3.7.3-final"
  },
  "orig_nbformat": 2,
  "kernelspec": {
   "name": "python3",
   "display_name": "Python 3.7.3 32-bit",
   "metadata": {
    "interpreter": {
     "hash": "916dbcbb3f70747c44a77c7bcd40155683ae19c65e1c03b4aa3499c5328201f1"
    }
   }
  }
 },
 "nbformat": 4,
 "nbformat_minor": 2,
 "cells": [
  {
   "source": [
    "# Speech to text test\n",
    "\n",
    "Using this article as a reference"
   ],
   "cell_type": "markdown",
   "metadata": {}
  },
  {
   "cell_type": "code",
   "execution_count": 3,
   "metadata": {},
   "outputs": [],
   "source": [
    "import time\n",
    "from pixels import Pixels, pixels\n",
    "from alexa_led_pattern import AlexaLedPattern"
   ]
  },
  {
   "cell_type": "code",
   "execution_count": 4,
   "metadata": {},
   "outputs": [
    {
     "output_type": "stream",
     "name": "stdout",
     "text": [
      "Wakekup\n",
      "think\n",
      "speak\n",
      "off\n"
     ]
    }
   ],
   "source": [
    "pixels.pattern = AlexaLedPattern(show=pixels.show)\n",
    "\n",
    "while True:\n",
    "\n",
    "    try:\n",
    "        print('Wakekup')\n",
    "        pixels.wakeup()\n",
    "        time.sleep(3)\n",
    "        print('think')\n",
    "        pixels.think()\n",
    "        time.sleep(3)\n",
    "        print('speak')\n",
    "        pixels.speak()\n",
    "        time.sleep(6)\n",
    "        print('off')\n",
    "        pixels.off()\n",
    "        time.sleep(3)\n",
    "    except KeyboardInterrupt:\n",
    "        break\n",
    "\n",
    "\n",
    "pixels.off()\n",
    "time.sleep(1)"
   ]
  },
  {
   "cell_type": "code",
   "execution_count": 14,
   "metadata": {},
   "outputs": [],
   "source": [
    "try:\n",
    "    pixels.off()\n",
    "except:\n",
    "    print('Pixels Error')"
   ]
  },
  {
   "cell_type": "code",
   "execution_count": null,
   "metadata": {},
   "outputs": [],
   "source": []
  },
  {
   "cell_type": "code",
   "execution_count": null,
   "metadata": {},
   "outputs": [],
   "source": []
  }
 ]
}